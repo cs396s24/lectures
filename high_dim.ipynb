{
 "cells": [
  {
   "cell_type": "markdown",
   "metadata": {
    "id": "aX5rhRH534IB"
   },
   "source": [
    "### High-dimensional synthetic data\n",
    "\n",
    "- C: Vector of {c_dim} {dice_size}-sided dice rolls.\n",
    "- A: Flip 1 + {dice_size} - median(C) coins. A is 1 if at least one flip comes up heads.\n",
    "- Y: Flip f(C) + A coins and write down the number of heads."
   ]
  },
  {
   "cell_type": "code",
   "execution_count": 1,
   "metadata": {
    "id": "StbmXb762aSb"
   },
   "outputs": [],
   "source": [
    "import numpy as np\n",
    "import pandas as pd\n",
    "import statsmodels.formula.api as smf\n",
    "import time"
   ]
  },
  {
   "cell_type": "code",
   "execution_count": 2,
   "metadata": {
    "id": "DelMlLoCmnSe"
   },
   "outputs": [],
   "source": [
    "def get_smf_model_a_param(ols, df):\n",
    "    \"\"\"\n",
    "    Fit a model with statsmodels\n",
    "    Return the parameter corresponding to the treatment\n",
    "    \"\"\"\n",
    "    return smf.ols(ols, data=df).fit().params['a']"
   ]
  },
  {
   "cell_type": "code",
   "execution_count": 12,
   "metadata": {},
   "outputs": [
    {
     "data": {
      "text/plain": [
       "array([[ 1,  2,  3,  1,  4,  9,  1,  8, 27]])"
      ]
     },
     "execution_count": 12,
     "metadata": {},
     "output_type": "execute_result"
    }
   ],
   "source": [
    "def raise_c_to_power(c, power):\n",
    "    arr = []\n",
    "    for p in range(1, 1 + power):\n",
    "        arr.append(np.power(c, p))\n",
    "    return np.concatenate(arr, axis=1)\n",
    "\n",
    "raise_c_to_power(np.array([[1, 2, 3]]), 3)"
   ]
  },
  {
   "cell_type": "code",
   "execution_count": 4,
   "metadata": {},
   "outputs": [],
   "source": [
    "def observed(n=100, c_dim=6, dice_size=2, power=1, base_coef=1.1):\n",
    "    \"\"\"\n",
    "    The observed data distribution\n",
    "      C: roll {c_dim} {dice_size}-sided dice and record the results\n",
    "      A: flip `1 + dice_size - np.median(C)` fair coins\n",
    "          and record 1 if at least one flip lands heads\n",
    "      \n",
    "      Y: flip `C + A` fair coins, and record the number of heads\n",
    "    \"\"\"\n",
    "\n",
    "    c_coefs = np.array([(-1) ** i * j * base_coef ** i\n",
    "                        for j in range(1, 1 + power)\n",
    "                        for i in range(1, 1 + c_dim)])\n",
    "\n",
    "    # what's a lower bound on `raise_c_to_power(c, power) @ c_coefs`? Subtract that off.\n",
    "    all_ones = np.ones([1, c_dim])\n",
    "    low_roll = raise_c_to_power(all_ones, power) * c_coefs\n",
    "    high_roll = raise_c_to_power(all_ones * dice_size, power) * c_coefs\n",
    "    worst_roll = np.min(np.concatenate([low_roll, high_roll], axis=0), axis=0)\n",
    "    y_min_dice = np.sum(worst_roll)\n",
    "          \n",
    "    c = np.random.randint(1, 1 + dice_size, (n, c_dim))\n",
    "    c_median = np.median(c, axis=1).astype(int)\n",
    "    a = np.random.binomial(n=1 + dice_size - c_median, p=0.5, size=n)\n",
    "    a = (a > 0).astype(np.int32)\n",
    "\n",
    "    full_c = raise_c_to_power(c, power)\n",
    "    y_n_dice = 1 + np.ceil(-y_min_dice + a + full_c @ c_coefs).astype(int)\n",
    "    y = np.random.binomial(n=y_n_dice, p=0.5)\n",
    "\n",
    "    columns = {\"a\": a, \"y\": y}\n",
    "    # c_col_names = [f\"c{i}_{j}\" for i in range(1, 1 + c_dim) for j in range(1, 1 + power)]\n",
    "    # c_cols = [col.reshape(-1) for col in np.array_split(c, c_dim * power, axis=1)]\n",
    "    c_col_names = [f\"c{i}\" for i in range(1, 1 + c_dim)]\n",
    "    c_cols = [col.reshape(-1) for col in np.array_split(c, c_dim, axis=1)]\n",
    "    columns.update(dict(zip(c_col_names, c_cols)))\n",
    "    df = pd.DataFrame(data=columns)\n",
    "\n",
    "    return df"
   ]
  },
  {
   "cell_type": "code",
   "execution_count": 5,
   "metadata": {
    "id": "aJ1sXLZ32lwH"
   },
   "outputs": [],
   "source": [
    "def experiment(estimator=\"ols\", n=100, c_dim=6,\n",
    "               repeats=1, power=1, dice_size=2,\n",
    "               ground_truth=None, prec=(3,0)):\n",
    "\n",
    "    # c_col_names = [f\"c{i}_{j}\" for i in range(1, 1 + c_dim) for j in range(1, 1 + power)]\n",
    "    c_col_names = [f\"c{i}\" for i in range(1, 1 + c_dim)]\n",
    "    results = []\n",
    "    np.random.seed(42)\n",
    "    for i in range(repeats):\n",
    "        df = observed(n=n, c_dim=c_dim, power=power, dice_size=dice_size)\n",
    "\n",
    "        if estimator == \"ols\":\n",
    "            ols = \"y ~ a + \" + \" + \".join(c_col_names)\n",
    "            results.append(get_smf_model_a_param(ols, df))\n",
    "\n",
    "        elif estimator == \"count\":\n",
    "            total = 0\n",
    "            denominator = 0\n",
    "            unique_c, counts = np.unique(\n",
    "                df[c_col_names], axis=0, return_counts=True)\n",
    "\n",
    "            for uniq, count in zip(unique_c, counts):\n",
    "                if count == 1: continue\n",
    "                subdf = df[(df[c_col_names] == uniq).all(axis=1)]\n",
    "                if np.unique(subdf[\"a\"]).shape[0] == 1: continue\n",
    "                e_y_a1 = subdf[subdf[\"a\"] == 1][\"y\"].mean()\n",
    "                e_y_a0 = subdf[subdf[\"a\"] == 0][\"y\"].mean()\n",
    "                total += count * (e_y_a1 - e_y_a0)\n",
    "                denominator += count\n",
    "\n",
    "            if denominator == 0:\n",
    "                results.append(np.nan)\n",
    "            else:\n",
    "                results.append(total / denominator)\n",
    "\n",
    "    if ground_truth is not None:\n",
    "        results = [np.abs(r - ground_truth) for r in results]\n",
    "    err = \"\"\n",
    "    prec_mean, prec_std = prec\n",
    "    if repeats > 1 and prec_std >= 0:\n",
    "        err = f\" ± {np.std(results):.{prec_std}f}\"\n",
    "    return f\"{np.mean(results):.{prec_mean}f}{err}\""
   ]
  },
  {
   "cell_type": "code",
   "execution_count": 6,
   "metadata": {
    "id": "9iIigHZLOYvK"
   },
   "outputs": [],
   "source": [
    "default_kwargs = dict(\n",
    "  n=1000,\n",
    "  c_dim=1,\n",
    "  dice_size=6,\n",
    "  repeats=10,\n",
    "  power=1,\n",
    "  prec=(2, 2),\n",
    "  ground_truth=0.5,\n",
    ")"
   ]
  },
  {
   "cell_type": "code",
   "execution_count": 7,
   "metadata": {},
   "outputs": [
    {
     "data": {
      "text/html": [
       "<div>\n",
       "<style scoped>\n",
       "    .dataframe tbody tr th:only-of-type {\n",
       "        vertical-align: middle;\n",
       "    }\n",
       "\n",
       "    .dataframe tbody tr th {\n",
       "        vertical-align: top;\n",
       "    }\n",
       "\n",
       "    .dataframe thead th {\n",
       "        text-align: right;\n",
       "    }\n",
       "</style>\n",
       "<table border=\"1\" class=\"dataframe\">\n",
       "  <thead>\n",
       "    <tr style=\"text-align: right;\">\n",
       "      <th></th>\n",
       "      <th>a</th>\n",
       "      <th>y</th>\n",
       "      <th>c1</th>\n",
       "      <th>c2</th>\n",
       "    </tr>\n",
       "  </thead>\n",
       "  <tbody>\n",
       "    <tr>\n",
       "      <th>0</th>\n",
       "      <td>1</td>\n",
       "      <td>2</td>\n",
       "      <td>2</td>\n",
       "      <td>1</td>\n",
       "    </tr>\n",
       "    <tr>\n",
       "      <th>1</th>\n",
       "      <td>1</td>\n",
       "      <td>2</td>\n",
       "      <td>2</td>\n",
       "      <td>1</td>\n",
       "    </tr>\n",
       "    <tr>\n",
       "      <th>2</th>\n",
       "      <td>1</td>\n",
       "      <td>37</td>\n",
       "      <td>1</td>\n",
       "      <td>2</td>\n",
       "    </tr>\n",
       "    <tr>\n",
       "      <th>3</th>\n",
       "      <td>1</td>\n",
       "      <td>1</td>\n",
       "      <td>2</td>\n",
       "      <td>1</td>\n",
       "    </tr>\n",
       "    <tr>\n",
       "      <th>4</th>\n",
       "      <td>1</td>\n",
       "      <td>11</td>\n",
       "      <td>1</td>\n",
       "      <td>1</td>\n",
       "    </tr>\n",
       "    <tr>\n",
       "      <th>5</th>\n",
       "      <td>1</td>\n",
       "      <td>2</td>\n",
       "      <td>2</td>\n",
       "      <td>1</td>\n",
       "    </tr>\n",
       "    <tr>\n",
       "      <th>6</th>\n",
       "      <td>1</td>\n",
       "      <td>12</td>\n",
       "      <td>1</td>\n",
       "      <td>1</td>\n",
       "    </tr>\n",
       "    <tr>\n",
       "      <th>7</th>\n",
       "      <td>1</td>\n",
       "      <td>2</td>\n",
       "      <td>2</td>\n",
       "      <td>1</td>\n",
       "    </tr>\n",
       "    <tr>\n",
       "      <th>8</th>\n",
       "      <td>0</td>\n",
       "      <td>14</td>\n",
       "      <td>2</td>\n",
       "      <td>2</td>\n",
       "    </tr>\n",
       "    <tr>\n",
       "      <th>9</th>\n",
       "      <td>1</td>\n",
       "      <td>34</td>\n",
       "      <td>1</td>\n",
       "      <td>2</td>\n",
       "    </tr>\n",
       "  </tbody>\n",
       "</table>\n",
       "</div>"
      ],
      "text/plain": [
       "   a   y  c1  c2\n",
       "0  1   2   2   1\n",
       "1  1   2   2   1\n",
       "2  1  37   1   2\n",
       "3  1   1   2   1\n",
       "4  1  11   1   1\n",
       "5  1   2   2   1\n",
       "6  1  12   1   1\n",
       "7  1   2   2   1\n",
       "8  0  14   2   2\n",
       "9  1  34   1   2"
      ]
     },
     "execution_count": 7,
     "metadata": {},
     "output_type": "execute_result"
    }
   ],
   "source": [
    "experiment(n=100, c_dim=2, dice_size=3, power=3, repeats=10)\n",
    "observed(n=10, c_dim=2, power=3, dice_size=2)"
   ]
  },
  {
   "cell_type": "code",
   "execution_count": 13,
   "metadata": {
    "colab": {
     "base_uri": "https://localhost:8080/"
    },
    "id": "aVsK_uAH3fgd",
    "outputId": "e6e978c3-40b6-4021-8720-1cbc9d260ea3"
   },
   "outputs": [
    {
     "name": "stdout",
     "output_type": "stream",
     "text": [
      "ols 0.11 ± 0.07\n",
      "count 0.10 ± 0.07\n"
     ]
    }
   ],
   "source": [
    "kwargs = default_kwargs.copy()\n",
    "\n",
    "for est in [\"ols\",  \"count\"]:\n",
    "    kwargs[\"estimator\"] = est\n",
    "    print(est, end=\" \")\n",
    "    print(experiment(**kwargs))"
   ]
  },
  {
   "cell_type": "code",
   "execution_count": 9,
   "metadata": {
    "colab": {
     "base_uri": "https://localhost:8080/"
    },
    "id": "MahWKhR2O_Lw",
    "outputId": "ceb6f8d7-6596-4659-dc9b-062054f8d855"
   },
   "outputs": [
    {
     "name": "stdout",
     "output_type": "stream",
     "text": [
      "ols 30.89 ± 5.68\n",
      "count 1.78 ± 1.30\n"
     ]
    }
   ],
   "source": [
    "kwargs = default_kwargs.copy()\n",
    "kwargs[\"power\"] = 3\n",
    "\n",
    "for est in [\"ols\", \"count\"]:\n",
    "    kwargs[\"estimator\"] = est\n",
    "    print(est, end=\" \")\n",
    "    print(experiment(**kwargs))"
   ]
  },
  {
   "cell_type": "code",
   "execution_count": 10,
   "metadata": {
    "colab": {
     "base_uri": "https://localhost:8080/"
    },
    "id": "noH2S2_eb_gG",
    "outputId": "8d8dd427-601b-467f-bb83-d31b7eae3a89"
   },
   "outputs": [
    {
     "name": "stdout",
     "output_type": "stream",
     "text": [
      "Power: 1; Estimator: ols\n",
      "c_dim         1             2             4             8      \n",
      "n=100  :  0.3 ± 0.2     0.4 ± 0.3     0.6 ± 0.4     0.5 ± 0.5          in 0.1s\n",
      "n=1000 :  0.1 ± 0.1     0.2 ± 0.1     0.1 ± 0.1     0.2 ± 0.2          in 0.1s\n",
      "n=10000:  0.1 ± 0.0     0.0 ± 0.0     0.0 ± 0.0     0.1 ± 0.0          in 0.4s\n",
      "\n",
      "Power: 1; Estimator: count\n",
      "c_dim         1             2             4             8      \n",
      "n=100  :  0.2 ± 0.1     0.4 ± 0.3     nan ± nan     nan ± nan          in 0.3s\n",
      "n=1000 :  0.1 ± 0.1     0.2 ± 0.1     0.3 ± 0.1     nan ± nan          in 1.0s\n",
      "n=10000:  0.0 ± 0.0     0.1 ± 0.0     0.0 ± 0.0     1.5 ± 1.6          in 6.8s\n",
      "\n",
      "Power: 2; Estimator: ols\n",
      "c_dim         1             2             4             8      \n",
      "n=100  :  1.5 ± 0.9     2.3 ± 1.4     3.1 ± 1.6     4.7 ± 2.0          in 0.1s\n",
      "n=1000 :  1.7 ± 0.3     0.6 ± 0.3     0.8 ± 0.4     0.9 ± 0.8          in 0.2s\n",
      "n=10000:  1.8 ± 0.1     0.2 ± 0.1     0.2 ± 0.2     0.4 ± 0.2          in 0.3s\n",
      "\n",
      "Power: 2; Estimator: count\n",
      "c_dim         1             2             4             8      \n",
      "n=100  :  0.8 ± 0.5     2.2 ± 1.9     nan ± nan     nan ± nan          in 0.2s\n",
      "n=1000 :  0.7 ± 0.5     0.4 ± 0.4     1.5 ± 0.9     nan ± nan          in 1.0s\n",
      "n=10000:  0.2 ± 0.1     0.2 ± 0.1     0.1 ± 0.1     6.5 ± 5.3          in 6.8s\n",
      "\n",
      "Power: 3; Estimator: ols\n",
      "c_dim         1             2             4             8      \n",
      "n=100  :  31.3 ± 16.2   25.1 ± 11.0   33.4 ± 27.5   52.9 ± 28.9        in 0.2s\n",
      "n=1000 :  30.9 ± 5.7    5.8 ± 2.9     9.0 ± 5.2     21.1 ± 15.4        in 0.2s\n",
      "n=10000:  29.1 ± 1.5    2.5 ± 1.3     2.6 ± 2.2     4.4 ± 2.6          in 0.4s\n",
      "\n",
      "Power: 3; Estimator: count\n",
      "c_dim         1             2             4             8      \n",
      "n=100  :  2.8 ± 2.3     7.0 ± 3.4     nan ± nan     nan ± nan          in 0.2s\n",
      "n=1000 :  1.8 ± 1.3     2.1 ± 1.8     2.9 ± 2.0     nan ± nan          in 1.4s\n",
      "n=10000:  0.4 ± 0.2     0.7 ± 0.3     0.6 ± 0.6     14.7 ± 7.9         in 6.7s\n",
      "\n",
      "Power: 4; Estimator: ols\n",
      "c_dim         1             2             4             8      \n",
      "n=100  :  260.5 ± 161.8 210.5 ± 188.5 446.0 ± 229.3 563.6 ± 359.0      in 0.2s\n",
      "n=1000 :  336.4 ± 59.9  58.1 ± 27.0   112.0 ± 68.5  126.5 ± 104.9      in 0.2s\n",
      "n=10000:  318.7 ± 20.4  20.4 ± 12.5   43.7 ± 31.2   47.8 ± 38.7        in 0.4s\n",
      "\n",
      "Power: 4; Estimator: count\n",
      "c_dim         1             2             4             8      \n",
      "n=100  :  10.6 ± 4.6    15.5 ± 12.0   nan ± nan     nan ± nan          in 0.2s\n",
      "n=1000 :  3.4 ± 2.4     4.1 ± 3.9     10.0 ± 7.4    nan ± nan          in 1.4s\n",
      "n=10000:  1.3 ± 1.1     1.0 ± 0.5     2.6 ± 1.6     94.9 ± 49.9        in 6.8s\n",
      "\n"
     ]
    }
   ],
   "source": [
    "kwargs = default_kwargs.copy()\n",
    "prec = (1, 1)\n",
    "kwargs[\"prec\"] = prec\n",
    "\n",
    "powers = [1, 2, 3, 4]\n",
    "n_values = [100, 1000, 10000]\n",
    "c_dims = [1, 2, 4, 8]\n",
    "\n",
    "col_header_width = int(np.log10(max(n_values))) + 3\n",
    "cell_width = 6 + prec[0]\n",
    "if prec[1] >= 0:\n",
    "    cell_width += prec[1] + 5\n",
    "    \n",
    "for power in powers:\n",
    "    for est in [\"ols\", \"count\"]:\n",
    "    \n",
    "        print(f\"Power: {power}; Estimator: {est}\")\n",
    "        header = [f\"{'c_dim':{col_header_width}}\"]\n",
    "        header += [f\"{c:^{cell_width}}\" for c in c_dims]\n",
    "        print(\" \".join(header))\n",
    "\n",
    "        for n in n_values:\n",
    "            runtime = time.time()\n",
    "            row = [f\"n={n:<{col_header_width-2}d}: \"]\n",
    "            for c_dim in c_dims:\n",
    "                kwargs.update(dict(\n",
    "                    n=n,\n",
    "                    c_dim=c_dim,\n",
    "                    estimator=est,\n",
    "                    power=power,\n",
    "                ))\n",
    "                result = experiment(**kwargs)\n",
    "                row.append(f\"{result:{cell_width}s}\")\n",
    "            row.append(f\"     in {time.time() - runtime:.1f}s\")\n",
    "            print(\" \".join(row))\n",
    "\n",
    "        print()"
   ]
  },
  {
   "cell_type": "markdown",
   "metadata": {},
   "source": [
    "Comparisons\n",
    "\n",
    "### Power: 1; Estimator: ols\n",
    "```\n",
    "c_dim          4              8      \n",
    "n=100  :   0.6 ± 0.4      0.5 ± 0.5       in 0.2s\n",
    "n=1000 :   0.1 ± 0.1      0.2 ± 0.2       in 0.3s\n",
    "n=10000:   0.0 ± 0.0      0.1 ± 0.0       in 1.2s\n",
    "```\n",
    "### Power: 2; Estimator: ols\n",
    "```\n",
    "c_dim          2              4      \n",
    "n=100  :   2.3 ± 1.4      3.1 ± 1.6       in 0.7s\n",
    "n=1000 :   0.6 ± 0.3      0.8 ± 0.4       in 0.8s\n",
    "n=10000:   0.2 ± 0.1      0.2 ± 0.2       in 1.5s\n",
    "```\n",
    "### Power: 4; Estimator: ols\n",
    "```\n",
    "c_dim           1             2         \n",
    "n=100  : 260.5 ± 161.8  210.5 ± 188.5     in 0.3s\n",
    "n=1000 : 336.4 ± 59.9    58.1 ± 27.0      in 0.4s\n",
    "n=10000: 318.7 ± 20.4    20.4 ± 12.5      in 1.0s\n",
    "```\n",
    "### Power: 1; Estimator: count\n",
    "```\n",
    "c_dim          4             8      \n",
    "n=100  :   nan ± nan     nan ± nan        in 0.5s\n",
    "n=1000 :   0.3 ± 0.1     nan ± nan        in 2.0s\n",
    "n=10000:   0.0 ± 0.0     1.5 ± 1.6        in 16.9s\n",
    "```\n",
    "### Power: 2; Estimator: count\n",
    "```\n",
    "c_dim          2             4     \n",
    "n=100  :   2.2 ± 1.9     nan ± nan        in 0.6s\n",
    "n=1000 :   0.4 ± 0.4     1.5 ± 0.9        in 3.1s\n",
    "n=10000:   0.2 ± 0.1     0.1 ± 0.1        in 14.9s\n",
    "```\n",
    "### Power: 4; Estimator: count\n",
    "```\n",
    "c_dim          1             2       \n",
    "n=100  :  10.6 ± 4.6    15.5 ± 12.0       in 0.4s\n",
    "n=1000 :   3.4 ± 2.4     4.1 ± 3.9        in 3.5s\n",
    "n=10000:   1.3 ± 1.1     1.0 ± 0.5        in 13.4s\n",
    "```"
   ]
  }
 ],
 "metadata": {
  "colab": {
   "provenance": []
  },
  "kernelspec": {
   "display_name": "Python 3 (ipykernel)",
   "language": "python",
   "name": "python3"
  },
  "language_info": {
   "codemirror_mode": {
    "name": "ipython",
    "version": 3
   },
   "file_extension": ".py",
   "mimetype": "text/x-python",
   "name": "python",
   "nbconvert_exporter": "python",
   "pygments_lexer": "ipython3",
   "version": "3.12.2"
  }
 },
 "nbformat": 4,
 "nbformat_minor": 4
}
