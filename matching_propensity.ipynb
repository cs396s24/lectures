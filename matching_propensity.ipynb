{
 "cells": [
  {
   "cell_type": "markdown",
   "metadata": {
    "id": "aX5rhRH534IB"
   },
   "source": [
    "### Propensity score + synthetic data\n",
    "\n",
    "- C: Result of a k-sided die.\n",
    "- A: Flip 1 + k - C coins. A is 1 if at least one flip comes up heads.\n",
    "- Y: Flip C + A coins and write down the number of heads."
   ]
  },
  {
   "cell_type": "code",
   "execution_count": 2,
   "metadata": {
    "id": "StbmXb762aSb"
   },
   "outputs": [],
   "source": [
    "import numpy as np\n",
    "import pandas as pd\n",
    "from sklearn.linear_model import LogisticRegression"
   ]
  },
  {
   "cell_type": "code",
   "execution_count": 3,
   "metadata": {
    "id": "7Kw5Qz66mogF"
   },
   "outputs": [],
   "source": [
    "def get_sklearn_model(ols, df):\n",
    "    \"\"\"\n",
    "    Fit a model with sklearn\n",
    "    Return the parameter corresponding to the treatment\n",
    "    \"\"\"\n",
    "    target = ols.split(\"~\")[0].strip()\n",
    "    inputs = ols.split(\"~\")[1].strip().split(\" + \")\n",
    "\n",
    "    model = LogisticRegression(solver=\"lbfgs\")\n",
    "    model.fit(df[inputs], df[target])\n",
    "\n",
    "    return model.predict_proba(df[inputs])[:, 1]"
   ]
  },
  {
   "cell_type": "code",
   "execution_count": 4,
   "metadata": {
    "id": "BYjxlHoc2ee_"
   },
   "outputs": [],
   "source": [
    "def observed(n=100, c_dim=6):\n",
    "    \"\"\"\n",
    "    The observed data distribution\n",
    "      C: roll a k-sided die and record the result\n",
    "      A: flip `1 + k - C` fair coins, and record 1 if at least one flip lands heads\n",
    "      Y: flip `C + A` fair coins, and record the number of heads\n",
    "    \"\"\"\n",
    "\n",
    "    c = np.random.randint(1, 1 + c_dim, n)\n",
    "    a = np.random.binomial(n=1 + c_dim - c, p=0.5, size=n)\n",
    "    a = (a > 0).astype(np.int32)\n",
    "    y = np.random.binomial(n=a + c, p=0.5)\n",
    "\n",
    "    df = pd.DataFrame(data=dict(c=c, a=a, y=y))\n",
    "    return df"
   ]
  },
  {
   "cell_type": "code",
   "execution_count": 5,
   "metadata": {
    "id": "m1rF6oW52i1b"
   },
   "outputs": [],
   "source": [
    "def randomized(n=100, c_dim=6):\n",
    "    \"\"\"\n",
    "    The same distribution, except A is replaced with a fair coin flip\n",
    "      C: roll a k-sided die and record the result\n",
    "      A: flip a single fair coin, and record 1 if it lands heads\n",
    "      Y: flip `C + A` fair coins, and record the number of heads\n",
    "    \"\"\"\n",
    "\n",
    "    c = np.random.randint(1, 1 + c_dim, n)\n",
    "    a = np.random.binomial(n=1, p=0.5, size=n)\n",
    "    y = np.random.binomial(n=a + c, p=0.5)\n",
    "\n",
    "    df = pd.DataFrame(data=dict(c=c, a=a, y=y))\n",
    "    return df"
   ]
  },
  {
   "cell_type": "code",
   "execution_count": 19,
   "metadata": {
    "id": "aJ1sXLZ32lwH"
   },
   "outputs": [],
   "source": [
    "def experiment(dist, n=100, c_dim=6, method=\"ipw.a ~ c\", repeats=1):\n",
    "    \"\"\"\n",
    "    Run an experiment with the given kwargs\n",
    "      dist: either \"observed\" or \"randomized\" distribution\n",
    "      n: the number of samples to draw from the distribution\n",
    "      c_dim: possible values that C can take (number of sides of the die)\n",
    "      method: method for estimation: either \"match.a ~ c\" or \"ipw.a ~ c\"\n",
    "    \"\"\"\n",
    "    if dist == \"observed\":\n",
    "        func = observed\n",
    "    elif dist == \"randomized\":\n",
    "        func = randomized\n",
    "    else:\n",
    "        raise ValueError(dist)\n",
    "\n",
    "    np.random.seed(42)\n",
    "    results = []\n",
    "    for i in range(repeats):\n",
    "        df = func(n=n, c_dim=c_dim)\n",
    "        formula = method.split(\".\")[1]\n",
    "        df[\"a_prob\"] = get_sklearn_model(formula, df)\n",
    "        \n",
    "        if \"ipw\" in method:\n",
    "            subdf = df[df[\"a\"] == 1]\n",
    "            e_y_a1 = np.sum(subdf[\"y\"] / subdf[\"a_prob\"])\n",
    "            \n",
    "            subdf = df[df[\"a\"] == 0]\n",
    "            e_y_a0 = np.sum(subdf[\"y\"] / (1 - subdf[\"a_prob\"]))\n",
    "            \n",
    "            results.append((e_y_a1 - e_y_a0) / df.shape[0])\n",
    "\n",
    "        elif \"match\" in method:\n",
    "            total = 0\n",
    "            denominator = 0\n",
    "            unique_a_prob, counts = np.unique(\n",
    "                df[\"a_prob\"], axis=0, return_counts=True)\n",
    "\n",
    "            for uniq, count in zip(unique_a_prob, counts):\n",
    "                if count == 1: continue\n",
    "                subdf = df[df[\"a_prob\"] == uniq]\n",
    "                if np.unique(subdf[\"a\"]).shape[0] == 1: continue\n",
    "                e_y_a1 = subdf[subdf[\"a\"] == 1][\"y\"].mean()\n",
    "                e_y_a0 = subdf[subdf[\"a\"] == 0][\"y\"].mean()\n",
    "                total += count * (e_y_a1 - e_y_a0)\n",
    "                denominator += count\n",
    "\n",
    "            if denominator == 0:\n",
    "                results.append(np.nan)\n",
    "            else:\n",
    "                results.append(total / denominator)\n",
    "            \n",
    "    err = \"\"\n",
    "    if repeats > 1:\n",
    "        err = f\" ± {np.std(results):.3f}\"\n",
    "    print(f\"{np.mean(results):.3f}{err}\")"
   ]
  },
  {
   "cell_type": "code",
   "execution_count": 32,
   "metadata": {},
   "outputs": [
    {
     "name": "stdout",
     "output_type": "stream",
     "text": [
      "0.464 ± 0.172\n"
     ]
    }
   ],
   "source": [
    "experiment(\"observed\", n=10000, c_dim=12, method=\"match.a ~ c\", repeats=10)"
   ]
  },
  {
   "cell_type": "code",
   "execution_count": 38,
   "metadata": {
    "colab": {
     "base_uri": "https://localhost:8080/"
    },
    "id": "aVsK_uAH3fgd",
    "outputId": "f356c944-2e75-48d7-e1fe-a96e36d173ed"
   },
   "outputs": [
    {
     "name": "stdout",
     "output_type": "stream",
     "text": [
      "-0.243 ± 0.736\n"
     ]
    }
   ],
   "source": [
    "experiment(\"observed\", n=10000, c_dim=12, method=\"ipw.a ~ c\", repeats=100)"
   ]
  }
 ],
 "metadata": {
  "colab": {
   "provenance": []
  },
  "kernelspec": {
   "display_name": "Python 3 (ipykernel)",
   "language": "python",
   "name": "python3"
  },
  "language_info": {
   "codemirror_mode": {
    "name": "ipython",
    "version": 3
   },
   "file_extension": ".py",
   "mimetype": "text/x-python",
   "name": "python",
   "nbconvert_exporter": "python",
   "pygments_lexer": "ipython3",
   "version": "3.12.2"
  }
 },
 "nbformat": 4,
 "nbformat_minor": 4
}
