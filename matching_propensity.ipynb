{
 "cells": [
  {
   "cell_type": "markdown",
   "metadata": {
    "id": "aX5rhRH534IB"
   },
   "source": [
    "### Propensity score + synthetic data\n",
    "\n",
    "- C: Result of a k-sided die.\n",
    "- A: Flip 1 + k - C coins. A is 1 if at least one flip comes up heads.\n",
    "- Y: Flip C + A coins and write down the number of heads."
   ]
  },
  {
   "cell_type": "code",
   "execution_count": 49,
   "metadata": {
    "id": "StbmXb762aSb"
   },
   "outputs": [],
   "source": [
    "import numpy as np\n",
    "import pandas as pd\n",
    "from sklearn.linear_model import LogisticRegression"
   ]
  },
  {
   "cell_type": "code",
   "execution_count": 16,
   "metadata": {
    "id": "7Kw5Qz66mogF"
   },
   "outputs": [],
   "source": [
    "def get_sklearn_model(ols, df):\n",
    "    \"\"\"\n",
    "    Fit a model with sklearn\n",
    "    Return the parameter corresponding to the treatment\n",
    "    \"\"\"\n",
    "    target = ols.split(\"~\")[0].strip()\n",
    "    inputs = ols.split(\"~\")[1].strip().split(\" + \")\n",
    "\n",
    "    model = LogisticRegression(solver=\"lbfgs\")\n",
    "    model.fit(df[inputs], df[target])\n",
    "\n",
    "    return model.predict_proba(df[inputs])[:, 1]"
   ]
  },
  {
   "cell_type": "code",
   "execution_count": 7,
   "metadata": {
    "id": "BYjxlHoc2ee_"
   },
   "outputs": [],
   "source": [
    "def observed(n=100, c_dim=6):\n",
    "    \"\"\"\n",
    "    The observed data distribution\n",
    "      C: roll a k-sided die and record the result\n",
    "      A: flip `1 + k - C` fair coins, and record 1 if at least one flip lands heads\n",
    "      Y: flip `C + A` fair coins, and record the number of heads\n",
    "    \"\"\"\n",
    "\n",
    "    c = np.random.randint(1, 1 + c_dim, n)\n",
    "    a = np.random.binomial(n=1 + c_dim - c, p=0.5, size=n)\n",
    "    a = (a > 0).astype(np.int32)\n",
    "    y = np.random.binomial(n=a + c, p=0.5)\n",
    "\n",
    "    df = pd.DataFrame(data=dict(c=c, a=a, y=y))\n",
    "    return df"
   ]
  },
  {
   "cell_type": "code",
   "execution_count": 8,
   "metadata": {
    "id": "m1rF6oW52i1b"
   },
   "outputs": [],
   "source": [
    "def randomized(n=100, c_dim=6):\n",
    "    \"\"\"\n",
    "    The same distribution, except A is replaced with a fair coin flip\n",
    "      C: roll a k-sided die and record the result\n",
    "      A: flip a single fair coin, and record 1 if it lands heads\n",
    "      Y: flip `C + A` fair coins, and record the number of heads\n",
    "    \"\"\"\n",
    "\n",
    "    c = np.random.randint(1, 1 + c_dim, n)\n",
    "    a = np.random.binomial(n=1, p=0.5, size=n)\n",
    "    y = np.random.binomial(n=a + c, p=0.5)\n",
    "\n",
    "    df = pd.DataFrame(data=dict(c=c, a=a, y=y))\n",
    "    return df"
   ]
  },
  {
   "cell_type": "code",
   "execution_count": 62,
   "metadata": {
    "id": "aJ1sXLZ32lwH"
   },
   "outputs": [],
   "source": [
    "def experiment(dist, n=100, c_dim=6, method=\"a ~ c\", repeats=1):\n",
    "    \"\"\"\n",
    "    Run an experiment with the given kwargs\n",
    "      dist: either \"observed\" or \"randomized\" distribution\n",
    "      n: the number of samples to draw from the distribution\n",
    "      c_dim: possible values that C can take (number of sides of the die)\n",
    "      method: method for estimation: either \"count\" or \"a ~ c\"\n",
    "    \"\"\"\n",
    "    if dist == \"observed\":\n",
    "        func = observed\n",
    "    elif dist == \"randomized\":\n",
    "        func = randomized\n",
    "    else:\n",
    "        raise ValueError(dist)\n",
    "\n",
    "    np.random.seed(42)\n",
    "    results = []\n",
    "    for i in range(repeats):\n",
    "        df = func(n=n, c_dim=c_dim)\n",
    "        if \"~\" in method:\n",
    "            df[\"a_prob\"] = get_sklearn_model(method, df)\n",
    "            for val in np.unique(df[\"c\"]):\n",
    "                print(df[df[\"c\"] == val].head(1))\n",
    "            # print(df)\n",
    "\n",
    "            subdf = df[df[\"a\"] == 1]\n",
    "            e_y_a1 = np.sum(subdf[\"y\"] / subdf[\"a_prob\"])\n",
    "            subdf = df[df[\"a\"] == 0]\n",
    "            e_y_a0 = np.sum(subdf[\"y\"] / (1 - subdf[\"a_prob\"]))\n",
    "            results.append((e_y_a1 - e_y_a0) / df.shape[0])\n",
    "\n",
    "        # what if we match on a_prob?\n",
    "        elif method == \"count\":\n",
    "            total = 0\n",
    "            denominator = 0\n",
    "            unique_c, counts = np.unique(\n",
    "                df[\"c\"], axis=0, return_counts=True)\n",
    "\n",
    "            for uniq, count in zip(unique_c, counts):\n",
    "                if count == 1: continue\n",
    "                subdf = df[df[\"c\"] == uniq]\n",
    "                if np.unique(subdf[\"a\"]).shape[0] == 1: continue\n",
    "                e_y_a1 = subdf[subdf[\"a\"] == 1][\"y\"].mean()\n",
    "                e_y_a0 = subdf[subdf[\"a\"] == 0][\"y\"].mean()\n",
    "                total += count * (e_y_a1 - e_y_a0)\n",
    "                denominator += count\n",
    "\n",
    "            if denominator == 0:\n",
    "                results.append(np.nan)\n",
    "            else:\n",
    "                results.append(total / denominator)\n",
    "            \n",
    "    err = \"\"\n",
    "    if repeats > 1:\n",
    "        err = f\" ± {np.std(results):.3f}\"\n",
    "    print(f\"{np.mean(results):.3f}{err}\")"
   ]
  },
  {
   "cell_type": "code",
   "execution_count": 58,
   "metadata": {},
   "outputs": [
    {
     "name": "stdout",
     "output_type": "stream",
     "text": [
      "0.501 ± 0.019\n"
     ]
    }
   ],
   "source": [
    "experiment(\"observed\", n=10000, c_dim=6, method=\"count\", repeats=10)"
   ]
  },
  {
   "cell_type": "code",
   "execution_count": 63,
   "metadata": {
    "colab": {
     "base_uri": "https://localhost:8080/"
    },
    "id": "aVsK_uAH3fgd",
    "outputId": "f356c944-2e75-48d7-e1fe-a96e36d173ed"
   },
   "outputs": [
    {
     "name": "stdout",
     "output_type": "stream",
     "text": [
      "    c  a  y    a_prob\n",
      "21  1  1  1  0.990743\n",
      "   c  a  y    a_prob\n",
      "5  2  1  1  0.976997\n",
      "   c  a  y    a_prob\n",
      "2  3  1  2  0.943991\n",
      "   c  a  y    a_prob\n",
      "0  4  1  3  0.869934\n",
      "   c  a  y    a_prob\n",
      "1  5  1  3  0.726342\n",
      "    c  a  y    a_prob\n",
      "12  6  0  3  0.512974\n",
      "   c  a  y    a_prob\n",
      "0  1  1  1  0.990234\n",
      "    c  a  y    a_prob\n",
      "18  2  1  2  0.975983\n",
      "   c  a  y    a_prob\n",
      "1  3  1  2  0.942149\n",
      "   c  a  y    a_prob\n",
      "7  4  0  1  0.867141\n",
      "    c  a  y    a_prob\n",
      "10  5  1  5  0.723428\n",
      "   c  a  y    a_prob\n",
      "3  6  0  3  0.511785\n",
      "   c  a  y   a_prob\n",
      "2  1  1  2  0.98944\n",
      "   c  a  y    a_prob\n",
      "0  2  1  1  0.974874\n",
      "   c  a  y    a_prob\n",
      "9  3  1  0  0.941405\n",
      "   c  a  y    a_prob\n",
      "4  4  1  2  0.869331\n",
      "   c  a  y    a_prob\n",
      "8  5  1  2  0.733683\n",
      "   c  a  y    a_prob\n",
      "1  6  1  5  0.532883\n",
      "   c  a  y    a_prob\n",
      "3  1  1  1  0.989909\n",
      "   c  a  y    a_prob\n",
      "1  2  1  3  0.975594\n",
      "   c  a  y    a_prob\n",
      "0  3  1  1  0.942155\n",
      "    c  a  y    a_prob\n",
      "12  4  0  0  0.869052\n",
      "   c  a  y    a_prob\n",
      "8  5  1  5  0.730035\n",
      "   c  a  y   a_prob\n",
      "2  6  1  4  0.52423\n",
      "   c  a  y    a_prob\n",
      "5  1  1  1  0.987198\n",
      "   c  a  y   a_prob\n",
      "1  2  1  2  0.97076\n",
      "   c  a  y    a_prob\n",
      "4  3  0  1  0.934615\n",
      "   c  a  y    a_prob\n",
      "3  4  1  2  0.860222\n",
      "    c  a  y    a_prob\n",
      "29  5  1  3  0.726003\n",
      "   c  a  y    a_prob\n",
      "0  6  1  4  0.532887\n",
      "   c  a  y    a_prob\n",
      "0  1  1  1  0.988357\n",
      "   c  a  y    a_prob\n",
      "1  2  1  0  0.972812\n",
      "   c  a  y    a_prob\n",
      "3  3  1  4  0.937819\n",
      "   c  a  y    a_prob\n",
      "6  4  1  4  0.864078\n",
      "   c  a  y    a_prob\n",
      "7  5  1  1  0.728231\n",
      "   c  a  y  a_prob\n",
      "5  6  0  2  0.5304\n",
      "   c  a  y    a_prob\n",
      "4  1  1  2  0.988101\n",
      "   c  a  y    a_prob\n",
      "1  2  1  3  0.972226\n",
      "   c  a  y   a_prob\n",
      "7  3  1  3  0.93653\n",
      "    c  a  y    a_prob\n",
      "11  4  0  1  0.861493\n",
      "   c  a  y    a_prob\n",
      "0  5  0  2  0.723897\n",
      "   c  a  y   a_prob\n",
      "2  6  1  5  0.52498\n",
      "   c  a  y    a_prob\n",
      "0  1  1  0  0.987932\n",
      "   c  a  y    a_prob\n",
      "8  2  1  1  0.971979\n",
      "   c  a  y    a_prob\n",
      "1  3  1  1  0.936296\n",
      "   c  a  y    a_prob\n",
      "5  4  1  1  0.861644\n",
      "   c  a  y    a_prob\n",
      "6  5  1  2  0.725185\n",
      "   c  a  y    a_prob\n",
      "2  6  1  3  0.527883\n",
      "   c  a  y    a_prob\n",
      "1  1  1  0  0.988761\n",
      "   c  a  y    a_prob\n",
      "5  2  1  2  0.973477\n",
      "   c  a  y    a_prob\n",
      "4  3  1  0  0.938697\n",
      "   c  a  y    a_prob\n",
      "0  4  1  4  0.864651\n",
      "   c  a  y    a_prob\n",
      "6  5  1  3  0.727163\n",
      "   c  a  y    a_prob\n",
      "3  6  1  6  0.526496\n",
      "   c  a  y    a_prob\n",
      "1  1  1  0  0.989017\n",
      "    c  a  y    a_prob\n",
      "10  2  1  1  0.973674\n",
      "    c  a  y    a_prob\n",
      "16  3  1  2  0.938232\n",
      "   c  a  y    a_prob\n",
      "8  4  1  5  0.861847\n",
      "   c  a  y    a_prob\n",
      "4  5  0  3  0.719266\n",
      "   c  a  y    a_prob\n",
      "0  6  1  4  0.512729\n",
      "0.466 ± 0.020\n"
     ]
    }
   ],
   "source": [
    "experiment(\"observed\", n=10000, c_dim=6, method=\"a ~ c\", repeats=10)"
   ]
  },
  {
   "cell_type": "code",
   "execution_count": 56,
   "metadata": {
    "colab": {
     "base_uri": "https://localhost:8080/"
    },
    "id": "SiKP2_Q33osx",
    "outputId": "c0187fee-e809-4eba-a815-cc2bb8d7dbb9"
   },
   "outputs": [
    {
     "name": "stdout",
     "output_type": "stream",
     "text": [
      "0.508 ± 0.023\n"
     ]
    }
   ],
   "source": [
    "experiment(\"randomized\", n=10000, c_dim=6, method=\"a ~ c\", repeats=10)"
   ]
  }
 ],
 "metadata": {
  "colab": {
   "provenance": []
  },
  "kernelspec": {
   "display_name": "Python 3 (ipykernel)",
   "language": "python",
   "name": "python3"
  },
  "language_info": {
   "codemirror_mode": {
    "name": "ipython",
    "version": 3
   },
   "file_extension": ".py",
   "mimetype": "text/x-python",
   "name": "python",
   "nbconvert_exporter": "python",
   "pygments_lexer": "ipython3",
   "version": "3.12.2"
  }
 },
 "nbformat": 4,
 "nbformat_minor": 4
}
